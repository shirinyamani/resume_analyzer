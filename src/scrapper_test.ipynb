{
 "cells": [
  {
   "cell_type": "code",
   "execution_count": 5,
   "metadata": {},
   "outputs": [],
   "source": [
    "import selenium as se\n",
    "import time\n",
    "from selenium import webdriver\n",
    "from selenium.webdriver.common.keys import Keys\n",
    "from selenium.webdriver.common.by import By\n",
    "import warnings\n",
    "\n",
    "warnings.filterwarnings('ignore')\n"
   ]
  },
  {
   "cell_type": "code",
   "execution_count": 6,
   "metadata": {},
   "outputs": [],
   "source": [
    "def ask_job_keyword():\n",
    "    list_jobs = []\n",
    "    while True:\n",
    "        jobs = input('Enter the job tittle you are looking for, type \"done\" once completed.')\n",
    "        if jobs.lower() == 'done':\n",
    "            break\n",
    "        list_jobs.append(jobs)\n",
    "    print(f\"Your keyword list is: {', '.join(list_jobs)}\")\n",
    "    return list_jobs"
   ]
  },
  {
   "cell_type": "code",
   "execution_count": 7,
   "metadata": {},
   "outputs": [],
   "source": [
    "def verify_jobs():\n",
    "    user_response = input('are you happy with the keywords? (Y/N)')\n",
    "    if user_response.upper() == 'Y':\n",
    "        return True\n",
    "    return False    "
   ]
  },
  {
   "cell_type": "code",
   "execution_count": 8,
   "metadata": {},
   "outputs": [],
   "source": [
    "def convert_to_right(job_list):\n",
    "    final_list = []\n",
    "    for s in job_list:\n",
    "        words = [word.strip() for word in s.split()]  # Split the job title into individual words and remove whitespaces\n",
    "        final_list.extend(words)  # Add individual words to the final list\n",
    "    final_title = '%2C%20'.join(final_list)\n",
    "    return final_title    "
   ]
  },
  {
   "cell_type": "code",
   "execution_count": 10,
   "metadata": {},
   "outputs": [],
   "source": [
    "def link(final_title):\n",
    "    link = f\"https://www.linkedin.com/jobs/search/?currentJobId=3805534201&geoId=101174742&keywords={final_title}&location=Canada\"\n",
    "    return link "
   ]
  },
  {
   "cell_type": "code",
   "execution_count": 13,
   "metadata": {},
   "outputs": [],
   "source": [
    "def open_browser_and_navigate(link):\n",
    "    window = input('which is your browser? Chrome/Safari')\n",
    "    if window.lower() == 'chrome':\n",
    "        driver  = webdriver.Chrome()\n",
    "    elif window.lower() == 'safari':\n",
    "        driver = webdriver.Safari()   \n",
    "    else:\n",
    "        raise ValueError('Unsupported browser!')\n",
    "   \n",
    "    driver.maximize_window()\n",
    "    driver.get(link)\n",
    "    driver.implicitly_wait(10)  \n",
    "    \n",
    "    for _ in range(0,2):\n",
    "        driver.execute_script(\"window.scrollTo(0, document.body.scrollHeight);\")\n",
    "        time.sleep(5)\n",
    "\n",
    "    try:\n",
    "        driver.find_element(by=By.CSS_SELECTOR, value=\"button[aria-label='See more jobs']\").click()\n",
    "        time.sleep(3)\n",
    "    except:\n",
    "        pass \n",
    "  \n"
   ]
  },
  {
   "cell_type": "code",
   "execution_count": 12,
   "metadata": {},
   "outputs": [],
   "source": [
    "link = 'https://www.linkedin.com/jobs/search/?currentJobId=3805534201&geoId=101174742&keywords=ml&location=Canada'\n",
    "open_browser_and_navigate(link=link)"
   ]
  },
  {
   "cell_type": "code",
   "execution_count": null,
   "metadata": {},
   "outputs": [],
   "source": [
    "def companies_list(driver):\n",
    "    company_name = []\n",
    "\n",
    "    try:\n",
    "        company = driver.find_elements(by=By.CSS_SELECTOR, value='h4[class=\"base-search-card__subtitle\"]')\n",
    "        for i in company:\n",
    "            company_name.append(i.text)\n",
    "\n",
    "    except:\n",
    "        pass\n",
    "\n",
    "    print(company_name)"
   ]
  },
  {
   "cell_type": "code",
   "execution_count": null,
   "metadata": {},
   "outputs": [],
   "source": []
  }
 ],
 "metadata": {
  "kernelspec": {
   "display_name": "ali-ml",
   "language": "python",
   "name": "python3"
  },
  "language_info": {
   "codemirror_mode": {
    "name": "ipython",
    "version": 3
   },
   "file_extension": ".py",
   "mimetype": "text/x-python",
   "name": "python",
   "nbconvert_exporter": "python",
   "pygments_lexer": "ipython3",
   "version": "3.10.13"
  }
 },
 "nbformat": 4,
 "nbformat_minor": 2
}
