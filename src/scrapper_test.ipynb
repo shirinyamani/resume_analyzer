{
 "cells": [
  {
   "cell_type": "code",
   "execution_count": 10,
   "metadata": {},
   "outputs": [],
   "source": [
    "import selenium as se\n",
    "import time\n",
    "from selenium import webdriver\n",
    "from selenium.webdriver.common.keys import Keys\n",
    "from selenium.webdriver.common.by import By\n",
    "import warnings\n",
    "\n",
    "warnings.filterwarnings('ignore')\n"
   ]
  },
  {
   "cell_type": "code",
   "execution_count": 3,
   "metadata": {},
   "outputs": [
    {
     "name": "stdout",
     "output_type": "stream",
     "text": [
      "\n"
     ]
    }
   ],
   "source": [
    "user_keyword = input('Enter your job keywords:')\n",
    "print(user_keyword)"
   ]
  },
  {
   "cell_type": "code",
   "execution_count": 4,
   "metadata": {},
   "outputs": [],
   "source": [
    "def ask_job_keyword():\n",
    "    list_jobs = []\n",
    "    while True:\n",
    "        jobs = input('Enter the job tittle you are looking for, type \"done\" once completed.')\n",
    "        if jobs.lower() == 'done':\n",
    "            break\n",
    "        list_jobs.append(jobs)\n",
    "    print(f\"Your keyword list is: {', '.join(list_jobs)}\")\n",
    "    return list_jobs"
   ]
  },
  {
   "cell_type": "code",
   "execution_count": 5,
   "metadata": {},
   "outputs": [],
   "source": [
    "def verify_jobs():\n",
    "    user_response = input('are you happy with the keywords? (Y/N)')\n",
    "    if user_response.upper() == 'Y':\n",
    "        return True\n",
    "    return False    "
   ]
  },
  {
   "cell_type": "code",
   "execution_count": 6,
   "metadata": {},
   "outputs": [],
   "source": [
    "def convert_to_right(job_list):\n",
    "    final_list = []\n",
    "    for s in job_list:\n",
    "        words = [word.strip() for word in s.split()]  # Split the job title into individual words and remove whitespaces\n",
    "        final_list.extend(words)  # Add individual words to the final list\n",
    "    final_title = '%2C%20'.join(final_list)\n",
    "    return final_title    "
   ]
  },
  {
   "cell_type": "code",
   "execution_count": 7,
   "metadata": {},
   "outputs": [
    {
     "data": {
      "text/plain": [
       "'ml%2C%20engineer%2C%20data%2C%20scienctist'"
      ]
     },
     "execution_count": 7,
     "metadata": {},
     "output_type": "execute_result"
    }
   ],
   "source": [
    "convert_to_right(['ml engineer', 'data scienctist'])"
   ]
  },
  {
   "cell_type": "code",
   "execution_count": 8,
   "metadata": {},
   "outputs": [],
   "source": [
    "def link(final_title):\n",
    "    link = f\"https://www.linkedin.com/jobs/search/?currentJobId=3805534201&geoId=101174742&keywords={final_title}&location=Canada\"\n",
    "    return link "
   ]
  },
  {
   "cell_type": "code",
   "execution_count": 28,
   "metadata": {},
   "outputs": [],
   "source": [
    "def open_browser_and_navigate(link):\n",
    "    window = input('which is your browser? Chrome/Safari')\n",
    "    if window.lower() == 'chrome':\n",
    "        driver  = webdriver.Chrome()\n",
    "    elif window.lower() == 'safari':\n",
    "        driver = webdriver.Safari()   \n",
    "    else:\n",
    "        raise ValueError('Unsupported browser!')\n",
    "   \n",
    "    driver.maximize_window()\n",
    "    driver.get(link)\n",
    "    driver.implicitly_wait(10)   \n",
    "    return driver\n",
    "  \n"
   ]
  },
  {
   "cell_type": "code",
   "execution_count": 30,
   "metadata": {},
   "outputs": [
    {
     "data": {
      "text/plain": [
       "<selenium.webdriver.chrome.webdriver.WebDriver (session=\"973f9613b9f4a926a5dd1d2bf663a0ce\")>"
      ]
     },
     "execution_count": 30,
     "metadata": {},
     "output_type": "execute_result"
    }
   ],
   "source": [
    "link = 'https://www.linkedin.com/jobs/search/?currentJobId=3805534201&geoId=101174742&keywords=ml&location=Canada'\n",
    "open_browser_and_navigate(link=link)"
   ]
  },
  {
   "cell_type": "code",
   "execution_count": null,
   "metadata": {},
   "outputs": [],
   "source": []
  },
  {
   "cell_type": "code",
   "execution_count": null,
   "metadata": {},
   "outputs": [],
   "source": []
  }
 ],
 "metadata": {
  "kernelspec": {
   "display_name": "ali-ml",
   "language": "python",
   "name": "python3"
  },
  "language_info": {
   "codemirror_mode": {
    "name": "ipython",
    "version": 3
   },
   "file_extension": ".py",
   "mimetype": "text/x-python",
   "name": "python",
   "nbconvert_exporter": "python",
   "pygments_lexer": "ipython3",
   "version": "3.10.13"
  }
 },
 "nbformat": 4,
 "nbformat_minor": 2
}
